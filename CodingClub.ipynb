{
 "cells": [
  {
   "cell_type": "code",
   "execution_count": 2,
   "id": "6aa9dfa6",
   "metadata": {},
   "outputs": [],
   "source": [
    "import pandas as pd\n",
    "df = pd.read_csv('./task2.csv')"
   ]
  },
  {
   "cell_type": "code",
   "execution_count": 3,
   "id": "9a88b4e5",
   "metadata": {},
   "outputs": [
    {
     "data": {
      "text/html": [
       "<div>\n",
       "<style scoped>\n",
       "    .dataframe tbody tr th:only-of-type {\n",
       "        vertical-align: middle;\n",
       "    }\n",
       "\n",
       "    .dataframe tbody tr th {\n",
       "        vertical-align: top;\n",
       "    }\n",
       "\n",
       "    .dataframe thead th {\n",
       "        text-align: right;\n",
       "    }\n",
       "</style>\n",
       "<table border=\"1\" class=\"dataframe\">\n",
       "  <thead>\n",
       "    <tr style=\"text-align: right;\">\n",
       "      <th></th>\n",
       "      <th>ID</th>\n",
       "      <th>Count</th>\n",
       "      <th>Percentage</th>\n",
       "      <th>It became a relationship</th>\n",
       "    </tr>\n",
       "  </thead>\n",
       "  <tbody>\n",
       "    <tr>\n",
       "      <th>count</th>\n",
       "      <td>1896.000000</td>\n",
       "      <td>1896.000000</td>\n",
       "      <td>1896.000000</td>\n",
       "      <td>1896.000000</td>\n",
       "    </tr>\n",
       "    <tr>\n",
       "      <th>mean</th>\n",
       "      <td>292999.394750</td>\n",
       "      <td>446.881267</td>\n",
       "      <td>0.254098</td>\n",
       "      <td>0.350738</td>\n",
       "    </tr>\n",
       "    <tr>\n",
       "      <th>std</th>\n",
       "      <td>227.809806</td>\n",
       "      <td>494.110578</td>\n",
       "      <td>0.220809</td>\n",
       "      <td>0.477327</td>\n",
       "    </tr>\n",
       "    <tr>\n",
       "      <th>min</th>\n",
       "      <td>292881.000000</td>\n",
       "      <td>0.000000</td>\n",
       "      <td>0.000000</td>\n",
       "      <td>0.000000</td>\n",
       "    </tr>\n",
       "    <tr>\n",
       "      <th>25%</th>\n",
       "      <td>292888.196925</td>\n",
       "      <td>0.000000</td>\n",
       "      <td>0.000000</td>\n",
       "      <td>0.000000</td>\n",
       "    </tr>\n",
       "    <tr>\n",
       "      <th>50%</th>\n",
       "      <td>292893.904400</td>\n",
       "      <td>400.439633</td>\n",
       "      <td>0.257873</td>\n",
       "      <td>0.000000</td>\n",
       "    </tr>\n",
       "    <tr>\n",
       "      <th>75%</th>\n",
       "      <td>292902.568750</td>\n",
       "      <td>845.560798</td>\n",
       "      <td>0.396787</td>\n",
       "      <td>1.000000</td>\n",
       "    </tr>\n",
       "    <tr>\n",
       "      <th>max</th>\n",
       "      <td>293785.000000</td>\n",
       "      <td>1969.000000</td>\n",
       "      <td>1.000000</td>\n",
       "      <td>1.000000</td>\n",
       "    </tr>\n",
       "  </tbody>\n",
       "</table>\n",
       "</div>"
      ],
      "text/plain": [
       "                  ID        Count   Percentage  It became a relationship\n",
       "count    1896.000000  1896.000000  1896.000000               1896.000000\n",
       "mean   292999.394750   446.881267     0.254098                  0.350738\n",
       "std       227.809806   494.110578     0.220809                  0.477327\n",
       "min    292881.000000     0.000000     0.000000                  0.000000\n",
       "25%    292888.196925     0.000000     0.000000                  0.000000\n",
       "50%    292893.904400   400.439633     0.257873                  0.000000\n",
       "75%    292902.568750   845.560798     0.396787                  1.000000\n",
       "max    293785.000000  1969.000000     1.000000                  1.000000"
      ]
     },
     "execution_count": 3,
     "metadata": {},
     "output_type": "execute_result"
    }
   ],
   "source": [
    "df.describe()"
   ]
  },
  {
   "cell_type": "code",
   "execution_count": 4,
   "id": "b88aa269",
   "metadata": {},
   "outputs": [],
   "source": [
    "from sklearn.linear_model import LogisticRegression"
   ]
  },
  {
   "cell_type": "code",
   "execution_count": 5,
   "id": "ac893472",
   "metadata": {},
   "outputs": [
    {
     "data": {
      "text/html": [
       "<div>\n",
       "<style scoped>\n",
       "    .dataframe tbody tr th:only-of-type {\n",
       "        vertical-align: middle;\n",
       "    }\n",
       "\n",
       "    .dataframe tbody tr th {\n",
       "        vertical-align: top;\n",
       "    }\n",
       "\n",
       "    .dataframe thead th {\n",
       "        text-align: right;\n",
       "    }\n",
       "</style>\n",
       "<table border=\"1\" class=\"dataframe\">\n",
       "  <thead>\n",
       "    <tr style=\"text-align: right;\">\n",
       "      <th></th>\n",
       "      <th>ID</th>\n",
       "      <th>Segment type</th>\n",
       "      <th>Segment Description</th>\n",
       "      <th>Answer</th>\n",
       "      <th>Count</th>\n",
       "      <th>Percentage</th>\n",
       "      <th>It became a relationship</th>\n",
       "    </tr>\n",
       "  </thead>\n",
       "  <tbody>\n",
       "    <tr>\n",
       "      <th>0</th>\n",
       "      <td>292890.8970</td>\n",
       "      <td>web</td>\n",
       "      <td>Meridian, Idaho</td>\n",
       "      <td>No</td>\n",
       "      <td>0.000000</td>\n",
       "      <td>0.000000</td>\n",
       "      <td>0</td>\n",
       "    </tr>\n",
       "    <tr>\n",
       "      <th>1</th>\n",
       "      <td>292887.9870</td>\n",
       "      <td>web</td>\n",
       "      <td>Meridian, Idaho</td>\n",
       "      <td>No</td>\n",
       "      <td>0.000000</td>\n",
       "      <td>0.000000</td>\n",
       "      <td>0</td>\n",
       "    </tr>\n",
       "    <tr>\n",
       "      <th>2</th>\n",
       "      <td>292894.0656</td>\n",
       "      <td>gender</td>\n",
       "      <td>Meridian, Idaho</td>\n",
       "      <td>No</td>\n",
       "      <td>499.173606</td>\n",
       "      <td>0.225255</td>\n",
       "      <td>0</td>\n",
       "    </tr>\n",
       "    <tr>\n",
       "      <th>3</th>\n",
       "      <td>292887.1180</td>\n",
       "      <td>web</td>\n",
       "      <td>Meridian, Idaho</td>\n",
       "      <td>No</td>\n",
       "      <td>0.000000</td>\n",
       "      <td>0.000000</td>\n",
       "      <td>0</td>\n",
       "    </tr>\n",
       "    <tr>\n",
       "      <th>4</th>\n",
       "      <td>292893.6561</td>\n",
       "      <td>gender</td>\n",
       "      <td>Meridian, Idaho</td>\n",
       "      <td>No</td>\n",
       "      <td>455.925963</td>\n",
       "      <td>0.211360</td>\n",
       "      <td>0</td>\n",
       "    </tr>\n",
       "    <tr>\n",
       "      <th>...</th>\n",
       "      <td>...</td>\n",
       "      <td>...</td>\n",
       "      <td>...</td>\n",
       "      <td>...</td>\n",
       "      <td>...</td>\n",
       "      <td>...</td>\n",
       "      <td>...</td>\n",
       "    </tr>\n",
       "    <tr>\n",
       "      <th>1891</th>\n",
       "      <td>292887.5496</td>\n",
       "      <td>web</td>\n",
       "      <td>Meridian, Idaho</td>\n",
       "      <td>No</td>\n",
       "      <td>0.000000</td>\n",
       "      <td>0.000000</td>\n",
       "      <td>0</td>\n",
       "    </tr>\n",
       "    <tr>\n",
       "      <th>1892</th>\n",
       "      <td>292881.6932</td>\n",
       "      <td>mobile</td>\n",
       "      <td>Meridian, Idaho</td>\n",
       "      <td>No</td>\n",
       "      <td>1203.190399</td>\n",
       "      <td>0.312360</td>\n",
       "      <td>0</td>\n",
       "    </tr>\n",
       "    <tr>\n",
       "      <th>1893</th>\n",
       "      <td>292900.8499</td>\n",
       "      <td>gender</td>\n",
       "      <td>Meridian, Idaho</td>\n",
       "      <td>No</td>\n",
       "      <td>806.378820</td>\n",
       "      <td>0.488025</td>\n",
       "      <td>0</td>\n",
       "    </tr>\n",
       "    <tr>\n",
       "      <th>1894</th>\n",
       "      <td>292893.8600</td>\n",
       "      <td>gender</td>\n",
       "      <td>Meridian, Idaho</td>\n",
       "      <td>No</td>\n",
       "      <td>1149.529381</td>\n",
       "      <td>0.488984</td>\n",
       "      <td>0</td>\n",
       "    </tr>\n",
       "    <tr>\n",
       "      <th>1895</th>\n",
       "      <td>292890.2944</td>\n",
       "      <td>web</td>\n",
       "      <td>Meridian, Idaho</td>\n",
       "      <td>No</td>\n",
       "      <td>0.000000</td>\n",
       "      <td>0.000000</td>\n",
       "      <td>0</td>\n",
       "    </tr>\n",
       "  </tbody>\n",
       "</table>\n",
       "<p>1896 rows × 7 columns</p>\n",
       "</div>"
      ],
      "text/plain": [
       "               ID Segment type Segment Description Answer        Count  \\\n",
       "0     292890.8970          web     Meridian, Idaho     No     0.000000   \n",
       "1     292887.9870          web     Meridian, Idaho     No     0.000000   \n",
       "2     292894.0656       gender     Meridian, Idaho     No   499.173606   \n",
       "3     292887.1180          web     Meridian, Idaho     No     0.000000   \n",
       "4     292893.6561       gender     Meridian, Idaho     No   455.925963   \n",
       "...           ...          ...                 ...    ...          ...   \n",
       "1891  292887.5496          web     Meridian, Idaho     No     0.000000   \n",
       "1892  292881.6932       mobile     Meridian, Idaho     No  1203.190399   \n",
       "1893  292900.8499       gender     Meridian, Idaho     No   806.378820   \n",
       "1894  292893.8600       gender     Meridian, Idaho     No  1149.529381   \n",
       "1895  292890.2944          web     Meridian, Idaho     No     0.000000   \n",
       "\n",
       "      Percentage  It became a relationship  \n",
       "0       0.000000                         0  \n",
       "1       0.000000                         0  \n",
       "2       0.225255                         0  \n",
       "3       0.000000                         0  \n",
       "4       0.211360                         0  \n",
       "...          ...                       ...  \n",
       "1891    0.000000                         0  \n",
       "1892    0.312360                         0  \n",
       "1893    0.488025                         0  \n",
       "1894    0.488984                         0  \n",
       "1895    0.000000                         0  \n",
       "\n",
       "[1896 rows x 7 columns]"
      ]
     },
     "execution_count": 5,
     "metadata": {},
     "output_type": "execute_result"
    }
   ],
   "source": [
    "df"
   ]
  },
  {
   "cell_type": "code",
   "execution_count": 35,
   "id": "7e082adf",
   "metadata": {},
   "outputs": [],
   "source": [
    "df2 = df.copy()"
   ]
  },
  {
   "cell_type": "code",
   "execution_count": 36,
   "id": "601ab667",
   "metadata": {},
   "outputs": [],
   "source": [
    "df2.columns = ['ID', 'ST', 'SD', 'Answer', 'Count',\n",
    "       'Percentage', 'Relationship']"
   ]
  },
  {
   "cell_type": "code",
   "execution_count": 37,
   "id": "0c402ef9",
   "metadata": {},
   "outputs": [
    {
     "data": {
      "text/html": [
       "<div>\n",
       "<style scoped>\n",
       "    .dataframe tbody tr th:only-of-type {\n",
       "        vertical-align: middle;\n",
       "    }\n",
       "\n",
       "    .dataframe tbody tr th {\n",
       "        vertical-align: top;\n",
       "    }\n",
       "\n",
       "    .dataframe thead th {\n",
       "        text-align: right;\n",
       "    }\n",
       "</style>\n",
       "<table border=\"1\" class=\"dataframe\">\n",
       "  <thead>\n",
       "    <tr style=\"text-align: right;\">\n",
       "      <th></th>\n",
       "      <th>ID</th>\n",
       "      <th>ST</th>\n",
       "      <th>SD</th>\n",
       "      <th>Answer</th>\n",
       "      <th>Count</th>\n",
       "      <th>Percentage</th>\n",
       "      <th>Relationship</th>\n",
       "    </tr>\n",
       "  </thead>\n",
       "  <tbody>\n",
       "    <tr>\n",
       "      <th>0</th>\n",
       "      <td>292890.8970</td>\n",
       "      <td>web</td>\n",
       "      <td>Meridian, Idaho</td>\n",
       "      <td>No</td>\n",
       "      <td>0.000000</td>\n",
       "      <td>0.000000</td>\n",
       "      <td>0</td>\n",
       "    </tr>\n",
       "    <tr>\n",
       "      <th>1</th>\n",
       "      <td>292887.9870</td>\n",
       "      <td>web</td>\n",
       "      <td>Meridian, Idaho</td>\n",
       "      <td>No</td>\n",
       "      <td>0.000000</td>\n",
       "      <td>0.000000</td>\n",
       "      <td>0</td>\n",
       "    </tr>\n",
       "    <tr>\n",
       "      <th>2</th>\n",
       "      <td>292894.0656</td>\n",
       "      <td>gender</td>\n",
       "      <td>Meridian, Idaho</td>\n",
       "      <td>No</td>\n",
       "      <td>499.173606</td>\n",
       "      <td>0.225255</td>\n",
       "      <td>0</td>\n",
       "    </tr>\n",
       "    <tr>\n",
       "      <th>3</th>\n",
       "      <td>292887.1180</td>\n",
       "      <td>web</td>\n",
       "      <td>Meridian, Idaho</td>\n",
       "      <td>No</td>\n",
       "      <td>0.000000</td>\n",
       "      <td>0.000000</td>\n",
       "      <td>0</td>\n",
       "    </tr>\n",
       "    <tr>\n",
       "      <th>4</th>\n",
       "      <td>292893.6561</td>\n",
       "      <td>gender</td>\n",
       "      <td>Meridian, Idaho</td>\n",
       "      <td>No</td>\n",
       "      <td>455.925963</td>\n",
       "      <td>0.211360</td>\n",
       "      <td>0</td>\n",
       "    </tr>\n",
       "    <tr>\n",
       "      <th>...</th>\n",
       "      <td>...</td>\n",
       "      <td>...</td>\n",
       "      <td>...</td>\n",
       "      <td>...</td>\n",
       "      <td>...</td>\n",
       "      <td>...</td>\n",
       "      <td>...</td>\n",
       "    </tr>\n",
       "    <tr>\n",
       "      <th>1891</th>\n",
       "      <td>292887.5496</td>\n",
       "      <td>web</td>\n",
       "      <td>Meridian, Idaho</td>\n",
       "      <td>No</td>\n",
       "      <td>0.000000</td>\n",
       "      <td>0.000000</td>\n",
       "      <td>0</td>\n",
       "    </tr>\n",
       "    <tr>\n",
       "      <th>1892</th>\n",
       "      <td>292881.6932</td>\n",
       "      <td>mobile</td>\n",
       "      <td>Meridian, Idaho</td>\n",
       "      <td>No</td>\n",
       "      <td>1203.190399</td>\n",
       "      <td>0.312360</td>\n",
       "      <td>0</td>\n",
       "    </tr>\n",
       "    <tr>\n",
       "      <th>1893</th>\n",
       "      <td>292900.8499</td>\n",
       "      <td>gender</td>\n",
       "      <td>Meridian, Idaho</td>\n",
       "      <td>No</td>\n",
       "      <td>806.378820</td>\n",
       "      <td>0.488025</td>\n",
       "      <td>0</td>\n",
       "    </tr>\n",
       "    <tr>\n",
       "      <th>1894</th>\n",
       "      <td>292893.8600</td>\n",
       "      <td>gender</td>\n",
       "      <td>Meridian, Idaho</td>\n",
       "      <td>No</td>\n",
       "      <td>1149.529381</td>\n",
       "      <td>0.488984</td>\n",
       "      <td>0</td>\n",
       "    </tr>\n",
       "    <tr>\n",
       "      <th>1895</th>\n",
       "      <td>292890.2944</td>\n",
       "      <td>web</td>\n",
       "      <td>Meridian, Idaho</td>\n",
       "      <td>No</td>\n",
       "      <td>0.000000</td>\n",
       "      <td>0.000000</td>\n",
       "      <td>0</td>\n",
       "    </tr>\n",
       "  </tbody>\n",
       "</table>\n",
       "<p>1896 rows × 7 columns</p>\n",
       "</div>"
      ],
      "text/plain": [
       "               ID      ST               SD Answer        Count  Percentage  \\\n",
       "0     292890.8970     web  Meridian, Idaho     No     0.000000    0.000000   \n",
       "1     292887.9870     web  Meridian, Idaho     No     0.000000    0.000000   \n",
       "2     292894.0656  gender  Meridian, Idaho     No   499.173606    0.225255   \n",
       "3     292887.1180     web  Meridian, Idaho     No     0.000000    0.000000   \n",
       "4     292893.6561  gender  Meridian, Idaho     No   455.925963    0.211360   \n",
       "...           ...     ...              ...    ...          ...         ...   \n",
       "1891  292887.5496     web  Meridian, Idaho     No     0.000000    0.000000   \n",
       "1892  292881.6932  mobile  Meridian, Idaho     No  1203.190399    0.312360   \n",
       "1893  292900.8499  gender  Meridian, Idaho     No   806.378820    0.488025   \n",
       "1894  292893.8600  gender  Meridian, Idaho     No  1149.529381    0.488984   \n",
       "1895  292890.2944     web  Meridian, Idaho     No     0.000000    0.000000   \n",
       "\n",
       "      Relationship  \n",
       "0                0  \n",
       "1                0  \n",
       "2                0  \n",
       "3                0  \n",
       "4                0  \n",
       "...            ...  \n",
       "1891             0  \n",
       "1892             0  \n",
       "1893             0  \n",
       "1894             0  \n",
       "1895             0  \n",
       "\n",
       "[1896 rows x 7 columns]"
      ]
     },
     "execution_count": 37,
     "metadata": {},
     "output_type": "execute_result"
    }
   ],
   "source": [
    "df2"
   ]
  },
  {
   "cell_type": "code",
   "execution_count": 38,
   "id": "9efe618f",
   "metadata": {},
   "outputs": [],
   "source": [
    "def f(s):\n",
    "    if(s==\"Yes\"):\n",
    "        return 1\n",
    "    else:\n",
    "        return 0\n",
    "\n",
    "df2.Answer = df2.Answer.apply(f)"
   ]
  },
  {
   "cell_type": "code",
   "execution_count": 39,
   "id": "45bc6cc7",
   "metadata": {},
   "outputs": [],
   "source": [
    "def f(s):\n",
    "    if(s==\"web\"):\n",
    "        return 0\n",
    "    elif(s==\"gender\"):\n",
    "        return 1\n",
    "    elif(s==\"university\"):\n",
    "        return 2\n",
    "    else:\n",
    "        return 3\n",
    "\n",
    "df2.ST = df2.ST.apply(f)"
   ]
  },
  {
   "cell_type": "code",
   "execution_count": 40,
   "id": "f6ee02f0",
   "metadata": {},
   "outputs": [
    {
     "data": {
      "text/plain": [
       "array([0, 1, 2, 3])"
      ]
     },
     "execution_count": 40,
     "metadata": {},
     "output_type": "execute_result"
    }
   ],
   "source": [
    "df2.ST.unique()"
   ]
  },
  {
   "cell_type": "code",
   "execution_count": 41,
   "id": "175c2a72",
   "metadata": {},
   "outputs": [],
   "source": [
    "df3=df2.copy()"
   ]
  },
  {
   "cell_type": "code",
   "execution_count": 42,
   "id": "ea32093e",
   "metadata": {},
   "outputs": [],
   "source": [
    "df2.drop([\"ID\",\"SD\"],axis=1,inplace=True)"
   ]
  },
  {
   "cell_type": "code",
   "execution_count": 43,
   "id": "89c8ca2e",
   "metadata": {},
   "outputs": [],
   "source": [
    "x=df2.drop(\"Relationship\",axis=1)\n",
    "y=df2.Relationship\n",
    "from sklearn.model_selection import train_test_split\n",
    "train, test = train_test_split(df2,test_size=0.20)"
   ]
  },
  {
   "cell_type": "code",
   "execution_count": 44,
   "id": "934e2aba",
   "metadata": {},
   "outputs": [
    {
     "data": {
      "text/plain": [
       "LogisticRegression()"
      ]
     },
     "execution_count": 44,
     "metadata": {},
     "output_type": "execute_result"
    }
   ],
   "source": [
    "model = LogisticRegression()\n",
    "model.fit(x,y)"
   ]
  },
  {
   "cell_type": "code",
   "execution_count": 45,
   "id": "ad6bce2a",
   "metadata": {},
   "outputs": [
    {
     "data": {
      "text/plain": [
       "0.7800632911392406"
      ]
     },
     "execution_count": 45,
     "metadata": {},
     "output_type": "execute_result"
    }
   ],
   "source": [
    "model.score(x,y)"
   ]
  },
  {
   "cell_type": "code",
   "execution_count": 49,
   "id": "fbd51b6c",
   "metadata": {},
   "outputs": [],
   "source": [
    "x1=train.drop(\"Relationship\",axis=1)\n",
    "y1=train.Relationship"
   ]
  },
  {
   "cell_type": "code",
   "execution_count": 50,
   "id": "a4d7aa98",
   "metadata": {},
   "outputs": [],
   "source": [
    "model2 = LogisticRegression()\n",
    "model2.fit(x1,y1)\n",
    "x2=test.drop(\"Relationship\",axis=1)\n",
    "y2=test.Relationship"
   ]
  },
  {
   "cell_type": "code",
   "execution_count": 52,
   "id": "537bebde",
   "metadata": {},
   "outputs": [
    {
     "data": {
      "text/plain": [
       "0.7868421052631579"
      ]
     },
     "execution_count": 52,
     "metadata": {},
     "output_type": "execute_result"
    }
   ],
   "source": [
    "model2.score(x2,y2)"
   ]
  },
  {
   "cell_type": "code",
   "execution_count": 66,
   "id": "c17bb889",
   "metadata": {},
   "outputs": [],
   "source": [
    "from sklearn.ensemble import RandomForestClassifier"
   ]
  },
  {
   "cell_type": "code",
   "execution_count": 72,
   "id": "cb692f6b",
   "metadata": {},
   "outputs": [
    {
     "data": {
      "text/plain": [
       "0.8973684210526316"
      ]
     },
     "execution_count": 72,
     "metadata": {},
     "output_type": "execute_result"
    }
   ],
   "source": [
    "model3=RandomForestClassifier()\n",
    "model3.fit(x1,y1)\n",
    "model3.score(x2,y2)"
   ]
  },
  {
   "cell_type": "code",
   "execution_count": 73,
   "id": "3fc8ab97",
   "metadata": {},
   "outputs": [
    {
     "data": {
      "text/plain": [
       "0.8947368421052632"
      ]
     },
     "execution_count": 73,
     "metadata": {},
     "output_type": "execute_result"
    }
   ],
   "source": [
    "model4=RandomForestClassifier(n_estimators=45, max_depth=6, random_state=105)\n",
    "model4.fit(x1,y1)\n",
    "model4.score(x2,y2)"
   ]
  },
  {
   "cell_type": "code",
   "execution_count": 85,
   "id": "94842401",
   "metadata": {},
   "outputs": [],
   "source": [
    "import numpy as np\n",
    "xo=[2.5,1.75,0.5,3.0]\n",
    "a=np.array(xo).reshape(-1,1)\n",
    "yo=[4.0,2.5,0.0,5.0]\n",
    "b=np.array(yo)"
   ]
  },
  {
   "cell_type": "code",
   "execution_count": 87,
   "id": "82981e9a",
   "metadata": {},
   "outputs": [
    {
     "data": {
      "text/plain": [
       "LinearRegression()"
      ]
     },
     "execution_count": 87,
     "metadata": {},
     "output_type": "execute_result"
    }
   ],
   "source": [
    "from sklearn.linear_model import LinearRegression\n",
    "modelf = LinearRegression()\n",
    "modelf.fit(a,b)"
   ]
  },
  {
   "cell_type": "code",
   "execution_count": 91,
   "id": "f09bfe5e",
   "metadata": {},
   "outputs": [
    {
     "data": {
      "text/plain": [
       "1.0"
      ]
     },
     "execution_count": 91,
     "metadata": {},
     "output_type": "execute_result"
    }
   ],
   "source": [
    "c=np.array([1.0]).reshape(-1,1)\n",
    "modelf.predict(c)"
   ]
  },
  {
   "cell_type": "code",
   "execution_count": 112,
   "id": "f3487248",
   "metadata": {},
   "outputs": [
    {
     "name": "stdout",
     "output_type": "stream",
     "text": [
      "73\n"
     ]
    },
    {
     "data": {
      "text/plain": [
       "375"
      ]
     },
     "execution_count": 112,
     "metadata": {},
     "output_type": "execute_result"
    }
   ],
   "source": [
    "task1 = pd.read_csv(\"./task1.csv\")\n",
    "t1f = task1[(task1.G3>=15) & (task1.higher==\"yes\")]\n",
    "print(t1f.higher.count())\n",
    "task1[(task1.higher==\"yes\")].higher.count()"
   ]
  },
  {
   "cell_type": "code",
   "execution_count": 113,
   "id": "65a8dff6",
   "metadata": {},
   "outputs": [
    {
     "data": {
      "text/plain": [
       "19.466666666666665"
      ]
     },
     "execution_count": 113,
     "metadata": {},
     "output_type": "execute_result"
    }
   ],
   "source": [
    "73/375*100\n"
   ]
  },
  {
   "cell_type": "code",
   "execution_count": 122,
   "id": "056eb44b",
   "metadata": {},
   "outputs": [
    {
     "data": {
      "text/plain": [
       "{1: 10.731884057971014,\n",
       " 2: 9.253333333333334,\n",
       " 5: 10.666666666666666,\n",
       " 3: 10.5,\n",
       " 4: 9.88888888888889}"
      ]
     },
     "execution_count": 122,
     "metadata": {},
     "output_type": "execute_result"
    }
   ],
   "source": [
    "a={}\n",
    "for i in task1.Dalc.unique():\n",
    "    a[i]=(task1[task1.Dalc==i].G3.mean())\n",
    "a"
   ]
  },
  {
   "cell_type": "code",
   "execution_count": 127,
   "id": "eb2f590c",
   "metadata": {},
   "outputs": [
    {
     "data": {
      "text/plain": [
       "-1.2607443253831079"
      ]
     },
     "execution_count": 127,
     "metadata": {},
     "output_type": "execute_result"
    }
   ],
   "source": [
    "task1[task1.romantic=='yes'].G3.mean() - task1[task1.romantic=='no'].G3.mean()"
   ]
  },
  {
   "cell_type": "code",
   "execution_count": 129,
   "id": "ed42699c",
   "metadata": {},
   "outputs": [
    {
     "data": {
      "text/plain": [
       "9.966346153846153"
      ]
     },
     "execution_count": 129,
     "metadata": {},
     "output_type": "execute_result"
    }
   ],
   "source": [
    "task1[task1.sex=='F'].G3.mean()"
   ]
  },
  {
   "cell_type": "code",
   "execution_count": 130,
   "id": "e6e5c9e6",
   "metadata": {},
   "outputs": [
    {
     "data": {
      "text/plain": [
       "10.914438502673796"
      ]
     },
     "execution_count": 130,
     "metadata": {},
     "output_type": "execute_result"
    }
   ],
   "source": [
    "task1[task1.sex=='M'].G3.mean()"
   ]
  },
  {
   "cell_type": "code",
   "execution_count": 132,
   "id": "5062fbdf",
   "metadata": {},
   "outputs": [
    {
     "data": {
      "text/plain": [
       "2.2788461538461537"
      ]
     },
     "execution_count": 132,
     "metadata": {},
     "output_type": "execute_result"
    }
   ],
   "source": [
    "task1[task1.sex=='F'].studytime.mean()"
   ]
  },
  {
   "cell_type": "code",
   "execution_count": 133,
   "id": "99130e38",
   "metadata": {},
   "outputs": [
    {
     "data": {
      "text/plain": [
       "1.7647058823529411"
      ]
     },
     "execution_count": 133,
     "metadata": {},
     "output_type": "execute_result"
    }
   ],
   "source": [
    "task1[task1.sex=='M'].studytime.mean()"
   ]
  },
  {
   "cell_type": "code",
   "execution_count": 135,
   "id": "a77968e3",
   "metadata": {},
   "outputs": [
    {
     "data": {
      "text/plain": [
       "10.152439024390244"
      ]
     },
     "execution_count": 135,
     "metadata": {},
     "output_type": "execute_result"
    }
   ],
   "source": [
    "task1[(task1.sex=='F')&(task1.address=='U')].G3.mean()"
   ]
  },
  {
   "cell_type": "code",
   "execution_count": 136,
   "id": "8a6da5b0",
   "metadata": {},
   "outputs": [
    {
     "data": {
      "text/plain": [
       "9.75"
      ]
     },
     "execution_count": 136,
     "metadata": {},
     "output_type": "execute_result"
    }
   ],
   "source": [
    "task1[(task1.sex=='M')&(task1.address=='R')].G3.mean()"
   ]
  },
  {
   "cell_type": "code",
   "execution_count": 138,
   "id": "6463bfb4",
   "metadata": {},
   "outputs": [
    {
     "data": {
      "text/plain": [
       "105"
      ]
     },
     "execution_count": 138,
     "metadata": {},
     "output_type": "execute_result"
    }
   ],
   "source": [
    "task1[(task1.sex=='M')&(task1.activities=='yes')].sex.count()"
   ]
  },
  {
   "cell_type": "code",
   "execution_count": 139,
   "id": "bbd331ca",
   "metadata": {},
   "outputs": [
    {
     "data": {
      "text/plain": [
       "96"
      ]
     },
     "execution_count": 139,
     "metadata": {},
     "output_type": "execute_result"
    }
   ],
   "source": [
    "task1[(task1.sex=='F')&(task1.activities=='yes')].sex.count()"
   ]
  },
  {
   "cell_type": "code",
   "execution_count": 140,
   "id": "78c82eec",
   "metadata": {},
   "outputs": [
    {
     "data": {
      "text/plain": [
       "187"
      ]
     },
     "execution_count": 140,
     "metadata": {},
     "output_type": "execute_result"
    }
   ],
   "source": [
    "task1[(task1.sex=='M')].sex.count()"
   ]
  },
  {
   "cell_type": "code",
   "execution_count": 141,
   "id": "ad8ba885",
   "metadata": {},
   "outputs": [
    {
     "data": {
      "text/plain": [
       "208"
      ]
     },
     "execution_count": 141,
     "metadata": {},
     "output_type": "execute_result"
    }
   ],
   "source": [
    "task1[(task1.sex=='F')].sex.count()"
   ]
  },
  {
   "cell_type": "code",
   "execution_count": 143,
   "id": "b81e1a78",
   "metadata": {},
   "outputs": [
    {
     "data": {
      "text/plain": [
       "56.14973262032086"
      ]
     },
     "execution_count": 143,
     "metadata": {},
     "output_type": "execute_result"
    }
   ],
   "source": [
    "bp=task1[(task1.sex=='M')&(task1.activities=='yes')].sex.count()/task1[(task1.sex=='M')].sex.count()*100\n",
    "bp"
   ]
  },
  {
   "cell_type": "code",
   "execution_count": 144,
   "id": "4f65bac5",
   "metadata": {},
   "outputs": [
    {
     "data": {
      "text/plain": [
       "46.15384615384615"
      ]
     },
     "execution_count": 144,
     "metadata": {},
     "output_type": "execute_result"
    }
   ],
   "source": [
    "gp=task1[(task1.sex=='F')&(task1.activities=='yes')].sex.count()/task1[(task1.sex=='F')].sex.count()*100\n",
    "gp"
   ]
  },
  {
   "cell_type": "code",
   "execution_count": 151,
   "id": "ea449040",
   "metadata": {},
   "outputs": [
    {
     "name": "stdout",
     "output_type": "stream",
     "text": [
      "47    M\n",
      "Name: sex, dtype: object,47    GP\n",
      "Name: school, dtype: object,47    no\n",
      "Name: romantic, dtype: object,47    4\n",
      "Name: absences, dtype: int64\n"
     ]
    }
   ],
   "source": [
    "tomper=task1[task1.G3==task1.G3.max()]\n",
    "print(f\"{tomper.sex},{tomper.school},{tomper.romantic},{tomper.absences}\")"
   ]
  },
  {
   "cell_type": "code",
   "execution_count": 153,
   "id": "7d76095d",
   "metadata": {},
   "outputs": [
    {
     "data": {
      "text/plain": [
       "0      2\n",
       "1      2\n",
       "2      5\n",
       "3      2\n",
       "4      3\n",
       "      ..\n",
       "390    9\n",
       "391    7\n",
       "392    6\n",
       "393    7\n",
       "394    6\n",
       "Length: 395, dtype: int64"
      ]
     },
     "execution_count": 153,
     "metadata": {},
     "output_type": "execute_result"
    }
   ],
   "source": [
    "TotalAlc = task1.Walc + task1.Dalc\n",
    "TotalAlc"
   ]
  },
  {
   "cell_type": "code",
   "execution_count": 155,
   "id": "8ae5afbb",
   "metadata": {},
   "outputs": [
    {
     "data": {
      "text/plain": [
       "-0.10842656102734985"
      ]
     },
     "execution_count": 155,
     "metadata": {},
     "output_type": "execute_result"
    }
   ],
   "source": [
    "task1.famrel.corr(TotalAlc)"
   ]
  },
  {
   "cell_type": "code",
   "execution_count": null,
   "id": "445d7338",
   "metadata": {},
   "outputs": [],
   "source": []
  }
 ],
 "metadata": {
  "kernelspec": {
   "display_name": "Python 3",
   "language": "python",
   "name": "python3"
  },
  "language_info": {
   "codemirror_mode": {
    "name": "ipython",
    "version": 3
   },
   "file_extension": ".py",
   "mimetype": "text/x-python",
   "name": "python",
   "nbconvert_exporter": "python",
   "pygments_lexer": "ipython3",
   "version": "3.8.8"
  }
 },
 "nbformat": 4,
 "nbformat_minor": 5
}
